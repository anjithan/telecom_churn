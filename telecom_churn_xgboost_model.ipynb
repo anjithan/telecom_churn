{
 "cells": [
  {
   "cell_type": "code",
   "execution_count": 1,
   "id": "adf47647-5ce9-4881-9025-e05c337b3475",
   "metadata": {},
   "outputs": [],
   "source": [
    "# Importing Pandas and NumPy\n",
    "import pandas as pd\n",
    "import numpy as np\n",
    "import matplotlib.pyplot as plt\n",
    "import seaborn as sns"
   ]
  },
  {
   "cell_type": "code",
   "execution_count": null,
   "id": "9c52de6e-ca8c-4623-a9b6-3aec114a6509",
   "metadata": {},
   "outputs": [],
   "source": [
    "# Importing all datasets\n",
    "df = pd.read_csv(\"C:\\\\Users\\\\JITHAN\\\\Downloads\\\\telecom-churn-case-study-hackathon-c35\\\\train (1).csv\")"
   ]
  },
  {
   "cell_type": "code",
   "execution_count": null,
   "id": "62c6a821-cf61-4bc2-a2fc-2dcde04bca52",
   "metadata": {},
   "outputs": [],
   "source": [
    "df.head()"
   ]
  },
  {
   "cell_type": "markdown",
   "id": "76e2c18f-49d7-45bd-a578-296d475f9473",
   "metadata": {},
   "source": [
    "### Check for missing values"
   ]
  },
  {
   "cell_type": "code",
   "execution_count": null,
   "id": "232b0951-990c-44b6-bebd-c775b4753aa7",
   "metadata": {},
   "outputs": [],
   "source": [
    "df.isnull().sum().sort_values(ascending=False).head(50)"
   ]
  },
  {
   "cell_type": "code",
   "execution_count": null,
   "id": "65b02125-133b-4488-98e3-c4cecf1547c0",
   "metadata": {},
   "outputs": [],
   "source": [
    "df.shape"
   ]
  },
  {
   "cell_type": "code",
   "execution_count": null,
   "id": "104954e5-d420-4039-9204-b395493c778a",
   "metadata": {},
   "outputs": [],
   "source": [
    "pd.options.display.max_columns = None\n",
    "pd.options.display.max_rows = None"
   ]
  },
  {
   "cell_type": "markdown",
   "id": "a009cff6-a231-45f7-996d-078dd8dfe576",
   "metadata": {},
   "source": [
    "## Lets drop columns with missing values greater than 50%"
   ]
  },
  {
   "cell_type": "code",
   "execution_count": null,
   "id": "a2281f59-8eb2-4f97-9bbb-efb67866776f",
   "metadata": {},
   "outputs": [],
   "source": [
    "df.isnull().sum().sort_values(ascending=False).head(30).index"
   ]
  },
  {
   "cell_type": "code",
   "execution_count": null,
   "id": "169b86b7-f3d7-451a-8881-3b4001c50181",
   "metadata": {},
   "outputs": [],
   "source": [
    "df.drop(columns = ['arpu_3g_6', 'count_rech_2g_6', 'night_pck_user_6', 'arpu_2g_6',\n",
    "       'date_of_last_rech_data_6', 'total_rech_data_6', 'av_rech_amt_data_6',\n",
    "       'max_rech_data_6', 'count_rech_3g_6', 'fb_user_6', 'night_pck_user_7',\n",
    "       'date_of_last_rech_data_7', 'total_rech_data_7', 'max_rech_data_7',\n",
    "       'fb_user_7', 'count_rech_2g_7', 'count_rech_3g_7', 'arpu_3g_7',\n",
    "       'av_rech_amt_data_7', 'arpu_2g_7', 'count_rech_2g_8',\n",
    "       'av_rech_amt_data_8', 'night_pck_user_8', 'max_rech_data_8',\n",
    "       'total_rech_data_8', 'arpu_2g_8', 'arpu_3g_8',\n",
    "       'date_of_last_rech_data_8', 'fb_user_8', 'count_rech_3g_8'], axis=1, inplace=True)"
   ]
  },
  {
   "cell_type": "code",
   "execution_count": null,
   "id": "6134bbeb-b705-4661-b971-c8ef845b9bd4",
   "metadata": {},
   "outputs": [],
   "source": [
    "df.shape"
   ]
  },
  {
   "cell_type": "code",
   "execution_count": null,
   "id": "a3d0852d-804d-495b-9d82-12bc8a18dba6",
   "metadata": {},
   "outputs": [],
   "source": [
    "df.isnull().sum().sort_values(ascending=False).head(100)"
   ]
  },
  {
   "cell_type": "markdown",
   "id": "02ed6dec-e1a1-4046-b6cd-16981ed6c280",
   "metadata": {},
   "source": [
    "## Create new column to check if recharged in the month and assign as 0 or 1"
   ]
  },
  {
   "cell_type": "code",
   "execution_count": null,
   "id": "fea2675a-d0d7-4c56-b690-787179aebe85",
   "metadata": {},
   "outputs": [],
   "source": [
    "df[\"recharged_6\"] = ~df[\"date_of_last_rech_6\"].isnull()\n",
    "df[\"recharged_7\"] = ~df[\"date_of_last_rech_7\"].isnull()\n",
    "df[\"recharged_8\"] = ~df[\"date_of_last_rech_8\"].isnull()"
   ]
  },
  {
   "cell_type": "code",
   "execution_count": null,
   "id": "7c0d9cf6-fead-4eb0-bf88-8ba47892ab7c",
   "metadata": {},
   "outputs": [],
   "source": [
    "df[\"recharged_6\"] = df[\"recharged_6\"].apply(lambda x: 1 if x else 0)\n",
    "df[\"recharged_7\"] = df[\"recharged_7\"].apply(lambda x: 1 if x else 0)\n",
    "df[\"recharged_8\"] = df[\"recharged_8\"].apply(lambda x: 1 if x else 0)"
   ]
  },
  {
   "cell_type": "markdown",
   "id": "84fe058e-c4cf-4408-9029-dc2dd060e8fe",
   "metadata": {},
   "source": [
    "## Lets drop the date columns as they are no use for us"
   ]
  },
  {
   "cell_type": "code",
   "execution_count": null,
   "id": "05e8fbe5-ef7d-4a49-a1a9-7f6afbb6a7d8",
   "metadata": {},
   "outputs": [],
   "source": [
    "df.drop(columns=[ 'last_date_of_month_6',\n",
    " 'last_date_of_month_7',\n",
    " 'last_date_of_month_8', 'date_of_last_rech_6',\n",
    " 'date_of_last_rech_7',\n",
    " 'date_of_last_rech_8',\n",
    " 'last_day_rch_amt_6',\n",
    " 'last_day_rch_amt_7',\n",
    " 'last_day_rch_amt_8'], inplace=True, axis=1)"
   ]
  },
  {
   "cell_type": "code",
   "execution_count": null,
   "id": "6c2ee3c2-7973-4fad-b6fd-b92f44cc06be",
   "metadata": {},
   "outputs": [],
   "source": [
    "df.shape"
   ]
  },
  {
   "cell_type": "markdown",
   "id": "86240b2e-1b43-43f0-a30f-2301278179cc",
   "metadata": {},
   "source": [
    "## drop id and circle id as they don't represent data useful for modeling"
   ]
  },
  {
   "cell_type": "code",
   "execution_count": null,
   "id": "228fc4cb-37ba-475e-a2cc-4125a45e2206",
   "metadata": {},
   "outputs": [],
   "source": [
    "df.drop(columns=[\"id\", \"circle_id\"], inplace=True, axis=1)"
   ]
  },
  {
   "cell_type": "code",
   "execution_count": null,
   "id": "c5401065-6482-4cbb-a6d5-1eb315e21c18",
   "metadata": {},
   "outputs": [],
   "source": [
    "df.shape"
   ]
  },
  {
   "cell_type": "code",
   "execution_count": null,
   "id": "f766d8ec-e40a-4e41-a49c-25f32e5df75a",
   "metadata": {},
   "outputs": [],
   "source": [
    "df.head()"
   ]
  },
  {
   "cell_type": "markdown",
   "id": "4bf83bf0-3343-4679-8ee8-66def6c2dea5",
   "metadata": {},
   "source": [
    "## Important step: We multiply values of month with created 0 or 1 which implies median data valid only if recharge was done that month"
   ]
  },
  {
   "cell_type": "code",
   "execution_count": null,
   "id": "4ceb2c85-aa09-460f-bf91-8bd2abf7aa19",
   "metadata": {},
   "outputs": [],
   "source": [
    "for col in ['roam_og_mou_8',\n",
    "            'std_og_mou_8',\n",
    " 'std_ic_t2t_mou_8',\n",
    " 'loc_og_t2m_mou_8',\n",
    " 'std_ic_t2f_mou_8',\n",
    " 'loc_og_t2f_mou_8',\n",
    " 'loc_og_t2t_mou_8',\n",
    " 'std_og_t2c_mou_8',\n",
    " 'loc_ic_t2t_mou_8',\n",
    " 'std_ic_t2o_mou_8',\n",
    " 'std_og_t2t_mou_8',\n",
    " 'roam_ic_mou_8',\n",
    " 'loc_og_t2c_mou_8',\n",
    " 'loc_ic_mou_8',\n",
    " 'offnet_mou_8',\n",
    " 'isd_og_mou_8',\n",
    " 'std_og_t2m_mou_8',\n",
    " 'onnet_mou_8',\n",
    " 'std_ic_mou_8',\n",
    " 'spl_og_mou_8',\n",
    " 'std_ic_t2m_mou_8',\n",
    " 'loc_ic_t2f_mou_8',\n",
    " 'spl_ic_mou_8',\n",
    " 'og_others_8',\n",
    " 'loc_og_mou_8',\n",
    " 'isd_ic_mou_8',\n",
    " 'loc_ic_t2m_mou_8',\n",
    " 'ic_others_8',\n",
    " 'std_og_t2f_mou_8',\n",
    " 'std_og_t2f_mou_6',\n",
    " 'std_ic_t2m_mou_6',\n",
    " 'og_others_6',\n",
    " 'std_og_t2c_mou_6',\n",
    " 'std_og_mou_6',\n",
    " 'std_ic_t2t_mou_6',\n",
    " 'isd_og_mou_6',\n",
    " 'spl_og_mou_6',\n",
    " 'loc_ic_mou_6',\n",
    " 'loc_ic_t2f_mou_6',\n",
    " 'loc_ic_t2t_mou_6',\n",
    " 'std_og_t2m_mou_6',\n",
    " 'std_ic_t2f_mou_6',\n",
    " 'roam_ic_mou_6',\n",
    " 'roam_og_mou_6',\n",
    " 'ic_others_6',\n",
    " 'isd_ic_mou_6',\n",
    " 'spl_ic_mou_6',\n",
    " 'onnet_mou_6',\n",
    " 'offnet_mou_6',\n",
    " 'std_og_t2t_mou_6',\n",
    " 'std_ic_mou_6',\n",
    " 'loc_ic_t2m_mou_6',\n",
    " 'loc_og_t2t_mou_6',\n",
    " 'std_ic_t2o_mou_6',\n",
    " 'loc_og_t2m_mou_6',\n",
    " 'loc_og_t2f_mou_6',\n",
    " 'loc_og_t2c_mou_6',\n",
    " 'loc_og_mou_6',\n",
    " 'std_ic_t2o_mou_7',\n",
    " 'std_ic_t2t_mou_7',\n",
    " 'std_ic_mou_7',\n",
    " 'loc_ic_mou_7',\n",
    " 'std_ic_t2f_mou_7',\n",
    " 'spl_ic_mou_7',\n",
    " 'isd_ic_mou_7',\n",
    " 'loc_ic_t2m_mou_7',\n",
    " 'ic_others_7',\n",
    " 'std_ic_t2m_mou_7',\n",
    " 'loc_ic_t2f_mou_7',\n",
    " 'loc_ic_t2t_mou_7',\n",
    " 'std_og_t2m_mou_7',\n",
    " 'onnet_mou_7',\n",
    " 'offnet_mou_7',\n",
    " 'roam_ic_mou_7',\n",
    " 'roam_og_mou_7',\n",
    " 'loc_og_t2m_mou_7',\n",
    " 'loc_og_t2f_mou_7',\n",
    " 'loc_og_t2c_mou_7',\n",
    " 'loc_og_mou_7',\n",
    " 'std_og_t2t_mou_7',\n",
    " 'loc_og_t2t_mou_7',\n",
    " 'std_og_t2f_mou_7',\n",
    " 'std_og_t2c_mou_7',\n",
    " 'std_og_mou_7',\n",
    " 'isd_og_mou_7',\n",
    " 'spl_og_mou_7',\n",
    " 'og_others_7',\n",
    " 'std_og_t2o_mou',\n",
    " 'loc_ic_t2o_mou',\n",
    " 'loc_og_t2o_mou',\n",
    " 'vol_3g_mb_8']:\n",
    "    df[col].fillna(df[col].median(), inplace=True)"
   ]
  },
  {
   "cell_type": "code",
   "execution_count": null,
   "id": "30782369-f7b7-4b8a-ab06-1ecf136a5ea9",
   "metadata": {},
   "outputs": [],
   "source": [
    "for col in ['roam_og_mou_8',\n",
    "            'std_og_mou_8',\n",
    " 'std_ic_t2t_mou_8',\n",
    " 'loc_og_t2m_mou_8',\n",
    " 'std_ic_t2f_mou_8',\n",
    " 'loc_og_t2f_mou_8',\n",
    " 'loc_og_t2t_mou_8',\n",
    " 'std_og_t2c_mou_8',\n",
    " 'loc_ic_t2t_mou_8',\n",
    " 'std_ic_t2o_mou_8',\n",
    " 'std_og_t2t_mou_8',\n",
    " 'roam_ic_mou_8',\n",
    " 'loc_og_t2c_mou_8',\n",
    " 'loc_ic_mou_8',\n",
    " 'offnet_mou_8',\n",
    " 'isd_og_mou_8',\n",
    " 'std_og_t2m_mou_8',\n",
    " 'onnet_mou_8',\n",
    " 'std_ic_mou_8',\n",
    " 'spl_og_mou_8',\n",
    " 'std_ic_t2m_mou_8',\n",
    " 'loc_ic_t2f_mou_8',\n",
    " 'spl_ic_mou_8',\n",
    " 'og_others_8',\n",
    " 'loc_og_mou_8',\n",
    " 'isd_ic_mou_8',\n",
    " 'loc_ic_t2m_mou_8',\n",
    " 'ic_others_8',\n",
    " 'std_og_t2f_mou_8',\n",
    " 'vol_3g_mb_8']:\n",
    "    df[col] = df[col].astype(float) * df['recharged_8'].astype(float)"
   ]
  },
  {
   "cell_type": "code",
   "execution_count": null,
   "id": "a5924cef-d8d0-4215-91a4-f306389414d9",
   "metadata": {},
   "outputs": [],
   "source": [
    "for col in [ 'std_ic_t2o_mou_7',\n",
    " 'std_ic_t2t_mou_7',\n",
    " 'std_ic_mou_7',\n",
    " 'loc_ic_mou_7',\n",
    " 'std_ic_t2f_mou_7',\n",
    " 'spl_ic_mou_7',\n",
    " 'isd_ic_mou_7',\n",
    " 'loc_ic_t2m_mou_7',\n",
    " 'ic_others_7',\n",
    " 'std_ic_t2m_mou_7',\n",
    " 'loc_ic_t2f_mou_7',\n",
    " 'loc_ic_t2t_mou_7',\n",
    " 'std_og_t2m_mou_7',\n",
    " 'onnet_mou_7',\n",
    " 'offnet_mou_7',\n",
    " 'roam_ic_mou_7',\n",
    " 'roam_og_mou_7',\n",
    " 'loc_og_t2m_mou_7',\n",
    " 'loc_og_t2f_mou_7',\n",
    " 'loc_og_t2c_mou_7',\n",
    " 'loc_og_mou_7',\n",
    " 'std_og_t2t_mou_7',\n",
    " 'loc_og_t2t_mou_7',\n",
    " 'std_og_t2f_mou_7',\n",
    " 'std_og_t2c_mou_7',\n",
    " 'std_og_mou_7',\n",
    " 'isd_og_mou_7',\n",
    " 'spl_og_mou_7',\n",
    " 'og_others_7',]:\n",
    "    df[col] = df[col].astype(float) * df['recharged_7'].astype(float)"
   ]
  },
  {
   "cell_type": "code",
   "execution_count": null,
   "id": "0c5bdf56-255d-44f2-95ca-f342ffe1444b",
   "metadata": {},
   "outputs": [],
   "source": [
    "for col in ['std_og_t2f_mou_6',\n",
    " 'std_ic_t2m_mou_6',\n",
    " 'og_others_6',\n",
    " 'std_og_t2c_mou_6',\n",
    " 'std_og_mou_6',\n",
    " 'std_ic_t2t_mou_6',\n",
    " 'isd_og_mou_6',\n",
    " 'spl_og_mou_6',\n",
    " 'loc_ic_mou_6',\n",
    " 'loc_ic_t2f_mou_6',\n",
    " 'loc_ic_t2t_mou_6',\n",
    " 'std_og_t2m_mou_6',\n",
    " 'std_ic_t2f_mou_6',\n",
    " 'roam_ic_mou_6',\n",
    " 'roam_og_mou_6',\n",
    " 'ic_others_6',\n",
    " 'isd_ic_mou_6',\n",
    " 'spl_ic_mou_6',\n",
    " 'onnet_mou_6',\n",
    " 'offnet_mou_6',\n",
    " 'std_og_t2t_mou_6',\n",
    " 'std_ic_mou_6',\n",
    " 'loc_ic_t2m_mou_6',\n",
    " 'loc_og_t2t_mou_6',\n",
    " 'std_ic_t2o_mou_6',\n",
    " 'loc_og_t2m_mou_6',\n",
    " 'loc_og_t2f_mou_6',\n",
    " 'loc_og_t2c_mou_6',\n",
    " 'loc_og_mou_6']:\n",
    "    df[col] = df[col].astype(float) * df['recharged_6'].astype(float)"
   ]
  },
  {
   "cell_type": "markdown",
   "id": "6d00468b-fed5-467d-9c85-7f01d0120c56",
   "metadata": {},
   "source": [
    "### Model using XGBoost"
   ]
  },
  {
   "cell_type": "code",
   "execution_count": null,
   "id": "92a6b653-79fe-470a-9876-c8087fcef6d8",
   "metadata": {},
   "outputs": [],
   "source": [
    "import sklearn\n",
    "from sklearn.model_selection import train_test_split\n",
    "\n",
    "df_train, df_test = train_test_split(df, train_size=0.8, random_state=100)"
   ]
  },
  {
   "cell_type": "code",
   "execution_count": null,
   "id": "cb39134d-267d-4ecf-9219-1bc9a73eb0d4",
   "metadata": {},
   "outputs": [],
   "source": [
    "# Divide into X & y for model building\n",
    "y_train = df_train.pop(\"churn_probability\")\n",
    "X_train = df_train"
   ]
  },
  {
   "cell_type": "code",
   "execution_count": null,
   "id": "4edbbfbb-9b81-4fb2-97eb-b07001ebe401",
   "metadata": {},
   "outputs": [],
   "source": [
    "from sklearn.ensemble import RandomForestClassifier, GradientBoostingClassifier\n",
    "from sklearn.model_selection import GridSearchCV\n",
    "import xgboost as xgb"
   ]
  },
  {
   "cell_type": "code",
   "execution_count": null,
   "id": "15affa57-45d4-4f83-84ef-41c304c361df",
   "metadata": {},
   "outputs": [],
   "source": [
    "xgb_classifier = xgb.XGBClassifier(n_jobs=-1, objective=\"binary:logistic\")"
   ]
  },
  {
   "cell_type": "code",
   "execution_count": null,
   "id": "9ee8e744-2fd7-473d-a982-66058556cab2",
   "metadata": {},
   "outputs": [],
   "source": [
    "xgb_classifier.get_params()"
   ]
  },
  {
   "cell_type": "code",
   "execution_count": null,
   "id": "c5ea625c-df29-4b90-ab90-342503f29163",
   "metadata": {},
   "outputs": [],
   "source": [
    "xgb_classifier.fit(X_train, y_train)"
   ]
  },
  {
   "cell_type": "code",
   "execution_count": null,
   "id": "1f3716f8-dd15-4f30-9759-7321c916e9ee",
   "metadata": {},
   "outputs": [],
   "source": [
    "# Divide into X & y for model building\n",
    "y_test = df_test.pop(\"churn_probability\")\n",
    "X_test = df_test"
   ]
  },
  {
   "cell_type": "code",
   "execution_count": null,
   "id": "677e01e7-e901-4b80-bb7e-924aa3255f33",
   "metadata": {},
   "outputs": [],
   "source": [
    "y_test_pred = xgb_classifier.predict(X_test)"
   ]
  },
  {
   "cell_type": "code",
   "execution_count": null,
   "id": "c6473abe-4e4c-4f72-8f9a-8a9e290d9b40",
   "metadata": {},
   "outputs": [],
   "source": [
    "from sklearn.metrics import accuracy_score\n",
    "accuracy_score(y_test, y_test_pred)"
   ]
  },
  {
   "cell_type": "code",
   "execution_count": null,
   "id": "3b527087-8592-4a30-8479-9b93c8787cef",
   "metadata": {},
   "outputs": [],
   "source": [
    "xgb_classifier.feature_importances_"
   ]
  },
  {
   "cell_type": "markdown",
   "id": "68e05484-7631-4ba3-bac9-2eec5e2b1160",
   "metadata": {},
   "source": [
    "### Take test data & repeat same imputations as done with training data"
   ]
  },
  {
   "cell_type": "code",
   "execution_count": null,
   "id": "7d17fa3c-8a01-4188-89bc-ad8fb9ba5041",
   "metadata": {},
   "outputs": [],
   "source": [
    "df_test = pd.read_csv(\"C:\\\\Users\\\\JITHAN\\\\Downloads\\\\telecom-churn-case-study-hackathon-c35\\\\test (1).csv\")"
   ]
  },
  {
   "cell_type": "code",
   "execution_count": null,
   "id": "657675d3-d48e-4007-9155-8051138fbb3f",
   "metadata": {},
   "outputs": [],
   "source": [
    "df_test.drop(columns = ['arpu_3g_6', 'count_rech_2g_6', 'night_pck_user_6', 'arpu_2g_6',\n",
    "       'date_of_last_rech_data_6', 'total_rech_data_6', 'av_rech_amt_data_6',\n",
    "       'max_rech_data_6', 'count_rech_3g_6', 'fb_user_6', 'night_pck_user_7',\n",
    "       'date_of_last_rech_data_7', 'total_rech_data_7', 'max_rech_data_7',\n",
    "       'fb_user_7', 'count_rech_2g_7', 'count_rech_3g_7', 'arpu_3g_7',\n",
    "       'av_rech_amt_data_7', 'arpu_2g_7', 'count_rech_2g_8',\n",
    "       'av_rech_amt_data_8', 'night_pck_user_8', 'max_rech_data_8',\n",
    "       'total_rech_data_8', 'arpu_2g_8', 'arpu_3g_8',\n",
    "       'date_of_last_rech_data_8', 'fb_user_8', 'count_rech_3g_8'], axis=1, inplace=True)"
   ]
  },
  {
   "cell_type": "code",
   "execution_count": null,
   "id": "c9d3ebfa-f050-4829-b6a0-592d0d55033f",
   "metadata": {},
   "outputs": [],
   "source": [
    "df_test[\"recharged_6\"] = ~df_test[\"date_of_last_rech_6\"].isnull()\n",
    "df_test[\"recharged_7\"] = ~df_test[\"date_of_last_rech_7\"].isnull()\n",
    "df_test[\"recharged_8\"] = ~df_test[\"date_of_last_rech_8\"].isnull()"
   ]
  },
  {
   "cell_type": "code",
   "execution_count": null,
   "id": "b6a8ebf7-dfd9-45b8-86e2-7dfdca8fc6f6",
   "metadata": {},
   "outputs": [],
   "source": [
    "df_test[\"recharged_6\"] = df_test[\"recharged_6\"].apply(lambda x: 1 if x else 0)\n",
    "df_test[\"recharged_7\"] = df_test[\"recharged_7\"].apply(lambda x: 1 if x else 0)\n",
    "df_test[\"recharged_8\"] = df_test[\"recharged_8\"].apply(lambda x: 1 if x else 0)"
   ]
  },
  {
   "cell_type": "code",
   "execution_count": null,
   "id": "67904e04-c988-44a8-9b4f-af5bd0896517",
   "metadata": {},
   "outputs": [],
   "source": [
    "for col in ['roam_og_mou_8',\n",
    "            'std_og_mou_8',\n",
    " 'std_ic_t2t_mou_8',\n",
    " 'loc_og_t2m_mou_8',\n",
    " 'std_ic_t2f_mou_8',\n",
    " 'loc_og_t2f_mou_8',\n",
    " 'loc_og_t2t_mou_8',\n",
    " 'std_og_t2c_mou_8',\n",
    " 'loc_ic_t2t_mou_8',\n",
    " 'std_ic_t2o_mou_8',\n",
    " 'std_og_t2t_mou_8',\n",
    " 'roam_ic_mou_8',\n",
    " 'loc_og_t2c_mou_8',\n",
    " 'loc_ic_mou_8',\n",
    " 'offnet_mou_8',\n",
    " 'isd_og_mou_8',\n",
    " 'std_og_t2m_mou_8',\n",
    " 'onnet_mou_8',\n",
    " 'std_ic_mou_8',\n",
    " 'spl_og_mou_8',\n",
    " 'std_ic_t2m_mou_8',\n",
    " 'loc_ic_t2f_mou_8',\n",
    " 'spl_ic_mou_8',\n",
    " 'og_others_8',\n",
    " 'loc_og_mou_8',\n",
    " 'isd_ic_mou_8',\n",
    " 'loc_ic_t2m_mou_8',\n",
    " 'ic_others_8',\n",
    " 'std_og_t2f_mou_8',\n",
    " 'std_og_t2f_mou_6',\n",
    " 'std_ic_t2m_mou_6',\n",
    " 'og_others_6',\n",
    " 'std_og_t2c_mou_6',\n",
    " 'std_og_mou_6',\n",
    " 'std_ic_t2t_mou_6',\n",
    " 'isd_og_mou_6',\n",
    " 'spl_og_mou_6',\n",
    " 'loc_ic_mou_6',\n",
    " 'loc_ic_t2f_mou_6',\n",
    " 'loc_ic_t2t_mou_6',\n",
    " 'std_og_t2m_mou_6',\n",
    " 'std_ic_t2f_mou_6',\n",
    " 'roam_ic_mou_6',\n",
    " 'roam_og_mou_6',\n",
    " 'ic_others_6',\n",
    " 'isd_ic_mou_6',\n",
    " 'spl_ic_mou_6',\n",
    " 'onnet_mou_6',\n",
    " 'offnet_mou_6',\n",
    " 'std_og_t2t_mou_6',\n",
    " 'std_ic_mou_6',\n",
    " 'loc_ic_t2m_mou_6',\n",
    " 'loc_og_t2t_mou_6',\n",
    " 'std_ic_t2o_mou_6',\n",
    " 'loc_og_t2m_mou_6',\n",
    " 'loc_og_t2f_mou_6',\n",
    " 'loc_og_t2c_mou_6',\n",
    " 'loc_og_mou_6',\n",
    " 'std_ic_t2o_mou_7',\n",
    " 'std_ic_t2t_mou_7',\n",
    " 'std_ic_mou_7',\n",
    " 'loc_ic_mou_7',\n",
    " 'std_ic_t2f_mou_7',\n",
    " 'spl_ic_mou_7',\n",
    " 'isd_ic_mou_7',\n",
    " 'loc_ic_t2m_mou_7',\n",
    " 'ic_others_7',\n",
    " 'std_ic_t2m_mou_7',\n",
    " 'loc_ic_t2f_mou_7',\n",
    " 'loc_ic_t2t_mou_7',\n",
    " 'std_og_t2m_mou_7',\n",
    " 'onnet_mou_7',\n",
    " 'offnet_mou_7',\n",
    " 'roam_ic_mou_7',\n",
    " 'roam_og_mou_7',\n",
    " 'loc_og_t2m_mou_7',\n",
    " 'loc_og_t2f_mou_7',\n",
    " 'loc_og_t2c_mou_7',\n",
    " 'loc_og_mou_7',\n",
    " 'std_og_t2t_mou_7',\n",
    " 'loc_og_t2t_mou_7',\n",
    " 'std_og_t2f_mou_7',\n",
    " 'std_og_t2c_mou_7',\n",
    " 'std_og_mou_7',\n",
    " 'isd_og_mou_7',\n",
    " 'spl_og_mou_7',\n",
    " 'og_others_7',\n",
    " 'std_og_t2o_mou',\n",
    " 'loc_ic_t2o_mou',\n",
    " 'loc_og_t2o_mou',\n",
    " 'vol_3g_mb_8']:\n",
    "    df_test[col].fillna(df_test[col].median(), inplace=True)"
   ]
  },
  {
   "cell_type": "code",
   "execution_count": null,
   "id": "ce73cb02-506f-4f70-8993-700cdf07f4f3",
   "metadata": {},
   "outputs": [],
   "source": [
    "for col in ['roam_og_mou_8',\n",
    "            'std_og_mou_8',\n",
    " 'std_ic_t2t_mou_8',\n",
    " 'loc_og_t2m_mou_8',\n",
    " 'std_ic_t2f_mou_8',\n",
    " 'loc_og_t2f_mou_8',\n",
    " 'loc_og_t2t_mou_8',\n",
    " 'std_og_t2c_mou_8',\n",
    " 'loc_ic_t2t_mou_8',\n",
    " 'std_ic_t2o_mou_8',\n",
    " 'std_og_t2t_mou_8',\n",
    " 'roam_ic_mou_8',\n",
    " 'loc_og_t2c_mou_8',\n",
    " 'loc_ic_mou_8',\n",
    " 'offnet_mou_8',\n",
    " 'isd_og_mou_8',\n",
    " 'std_og_t2m_mou_8',\n",
    " 'onnet_mou_8',\n",
    " 'std_ic_mou_8',\n",
    " 'spl_og_mou_8',\n",
    " 'std_ic_t2m_mou_8',\n",
    " 'loc_ic_t2f_mou_8',\n",
    " 'spl_ic_mou_8',\n",
    " 'og_others_8',\n",
    " 'loc_og_mou_8',\n",
    " 'isd_ic_mou_8',\n",
    " 'loc_ic_t2m_mou_8',\n",
    " 'ic_others_8',\n",
    " 'std_og_t2f_mou_8',\n",
    " 'vol_3g_mb_8']:\n",
    "    df_test[col] = df_test[col].astype(float) * df_test['recharged_8'].astype(float)"
   ]
  },
  {
   "cell_type": "code",
   "execution_count": null,
   "id": "08d0e798-d4ec-4c2b-9cfa-79ef5f4bc81a",
   "metadata": {},
   "outputs": [],
   "source": [
    "for col in [ 'std_ic_t2o_mou_7',\n",
    " 'std_ic_t2t_mou_7',\n",
    " 'std_ic_mou_7',\n",
    " 'loc_ic_mou_7',\n",
    " 'std_ic_t2f_mou_7',\n",
    " 'spl_ic_mou_7',\n",
    " 'isd_ic_mou_7',\n",
    " 'loc_ic_t2m_mou_7',\n",
    " 'ic_others_7',\n",
    " 'std_ic_t2m_mou_7',\n",
    " 'loc_ic_t2f_mou_7',\n",
    " 'loc_ic_t2t_mou_7',\n",
    " 'std_og_t2m_mou_7',\n",
    " 'onnet_mou_7',\n",
    " 'offnet_mou_7',\n",
    " 'roam_ic_mou_7',\n",
    " 'roam_og_mou_7',\n",
    " 'loc_og_t2m_mou_7',\n",
    " 'loc_og_t2f_mou_7',\n",
    " 'loc_og_t2c_mou_7',\n",
    " 'loc_og_mou_7',\n",
    " 'std_og_t2t_mou_7',\n",
    " 'loc_og_t2t_mou_7',\n",
    " 'std_og_t2f_mou_7',\n",
    " 'std_og_t2c_mou_7',\n",
    " 'std_og_mou_7',\n",
    " 'isd_og_mou_7',\n",
    " 'spl_og_mou_7',\n",
    " 'og_others_7',]:\n",
    "    df_test[col] = df_test[col].astype(float) * df_test['recharged_7'].astype(float)"
   ]
  },
  {
   "cell_type": "code",
   "execution_count": null,
   "id": "0b3b6653-b083-4f6f-8c8a-9f5d8e900ed9",
   "metadata": {},
   "outputs": [],
   "source": [
    "for col in ['std_og_t2f_mou_6',\n",
    " 'std_ic_t2m_mou_6',\n",
    " 'og_others_6',\n",
    " 'std_og_t2c_mou_6',\n",
    " 'std_og_mou_6',\n",
    " 'std_ic_t2t_mou_6',\n",
    " 'isd_og_mou_6',\n",
    " 'spl_og_mou_6',\n",
    " 'loc_ic_mou_6',\n",
    " 'loc_ic_t2f_mou_6',\n",
    " 'loc_ic_t2t_mou_6',\n",
    " 'std_og_t2m_mou_6',\n",
    " 'std_ic_t2f_mou_6',\n",
    " 'roam_ic_mou_6',\n",
    " 'roam_og_mou_6',\n",
    " 'ic_others_6',\n",
    " 'isd_ic_mou_6',\n",
    " 'spl_ic_mou_6',\n",
    " 'onnet_mou_6',\n",
    " 'offnet_mou_6',\n",
    " 'std_og_t2t_mou_6',\n",
    " 'std_ic_mou_6',\n",
    " 'loc_ic_t2m_mou_6',\n",
    " 'loc_og_t2t_mou_6',\n",
    " 'std_ic_t2o_mou_6',\n",
    " 'loc_og_t2m_mou_6',\n",
    " 'loc_og_t2f_mou_6',\n",
    " 'loc_og_t2c_mou_6',\n",
    " 'loc_og_mou_6']:\n",
    "    df_test[col] = df_test[col].astype(float) * df_test['recharged_6'].astype(float)"
   ]
  },
  {
   "cell_type": "code",
   "execution_count": null,
   "id": "77bcdf70-1352-42b1-8f83-92bc16b8422e",
   "metadata": {},
   "outputs": [],
   "source": [
    "df_test.drop(columns=[ 'last_date_of_month_6',\n",
    " 'last_date_of_month_7',\n",
    " 'last_date_of_month_8', 'date_of_last_rech_6',\n",
    " 'date_of_last_rech_7',\n",
    " 'date_of_last_rech_8',\n",
    " 'last_day_rch_amt_6',\n",
    " 'last_day_rch_amt_7',\n",
    " 'last_day_rch_amt_8'], inplace=True, axis=1)"
   ]
  },
  {
   "cell_type": "code",
   "execution_count": null,
   "id": "75d24498-9eb0-448a-964e-58c873e1bb9b",
   "metadata": {},
   "outputs": [],
   "source": [
    "df_test.drop(columns=[\"id\", \"circle_id\"], inplace=True, axis=1)"
   ]
  },
  {
   "cell_type": "code",
   "execution_count": null,
   "id": "be2ed639-c055-40d7-b530-7bdf844555a9",
   "metadata": {},
   "outputs": [],
   "source": [
    "df_test_orig = pd.read_csv(\"C:\\\\Users\\\\JITHAN\\\\Downloads\\\\telecom-churn-case-study-hackathon-c35\\\\test (1).csv\")"
   ]
  },
  {
   "cell_type": "code",
   "execution_count": null,
   "id": "a559b36e-c323-4ce8-ae39-4d923a2d3334",
   "metadata": {},
   "outputs": [],
   "source": [
    "X_test_data = df_test"
   ]
  },
  {
   "cell_type": "markdown",
   "id": "e8268492-ca89-4769-af5e-a3fe8e930dce",
   "metadata": {},
   "source": [
    "### Predict with the model created and collect result in csv file"
   ]
  },
  {
   "cell_type": "code",
   "execution_count": null,
   "id": "0d920e9f-a629-4529-8e49-91d032461498",
   "metadata": {},
   "outputs": [],
   "source": [
    "y_test_data = xgb_classifier.predict(X_test_data)"
   ]
  },
  {
   "cell_type": "code",
   "execution_count": null,
   "id": "11dd3a76-6bc2-473d-8750-3899eca443c0",
   "metadata": {},
   "outputs": [],
   "source": [
    "result_df = pd.DataFrame({\"id\": df_test_orig[\"id\"], \"churn_probability\": y_test_data})"
   ]
  },
  {
   "cell_type": "code",
   "execution_count": null,
   "id": "7caa3a47-e157-48f8-802b-0861733a8d8e",
   "metadata": {},
   "outputs": [],
   "source": [
    "result_df.head()"
   ]
  },
  {
   "cell_type": "code",
   "execution_count": null,
   "id": "e78cacb8-9130-4f97-ae30-765738af220b",
   "metadata": {},
   "outputs": [],
   "source": [
    "result_df.to_csv(\"C:\\\\Users\\\\JITHAN\\\\Downloads\\\\telecom-churn-case-study-hackathon-c35\\\\result.csv\", index=False)"
   ]
  },
  {
   "cell_type": "code",
   "execution_count": null,
   "id": "e2c49e35-1265-42de-a5dd-ca7d0cf6f938",
   "metadata": {},
   "outputs": [],
   "source": [
    "feature_df = pd.DataFrame({\"feature\": df_test.columns, \"importance\": xgb_classifier.feature_importances_})"
   ]
  },
  {
   "cell_type": "code",
   "execution_count": null,
   "id": "92cc766c-825d-403f-bb60-68d81064e593",
   "metadata": {},
   "outputs": [],
   "source": [
    "feature_df.sort_values(by='importance', ascending=False)"
   ]
  },
  {
   "cell_type": "markdown",
   "id": "969a880d-d75c-47f5-baab-5719b02fdd25",
   "metadata": {},
   "source": [
    "### Observations:\n",
    "### Total Incoming Minutes of Usage, Roaming Outgoing Minutes of Usage, Local Incoming Minutes of Usage are top 3 features\n",
    "### Per this observation, a good network ensures customer will not churn\n",
    "### A reduction in these minutes due to network outage can cause a customer churn"
   ]
  },
  {
   "cell_type": "code",
   "execution_count": null,
   "id": "6c7ebaee-e2d1-43ae-9a0b-8244a4b1d2c6",
   "metadata": {},
   "outputs": [],
   "source": []
  }
 ],
 "metadata": {
  "kernelspec": {
   "display_name": "Python 3 (ipykernel)",
   "language": "python",
   "name": "python3"
  },
  "language_info": {
   "codemirror_mode": {
    "name": "ipython",
    "version": 3
   },
   "file_extension": ".py",
   "mimetype": "text/x-python",
   "name": "python",
   "nbconvert_exporter": "python",
   "pygments_lexer": "ipython3",
   "version": "3.10.0"
  }
 },
 "nbformat": 4,
 "nbformat_minor": 5
}
